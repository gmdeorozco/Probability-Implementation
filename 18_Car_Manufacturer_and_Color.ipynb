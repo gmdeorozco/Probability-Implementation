{
  "cells": [
    {
      "cell_type": "markdown",
      "metadata": {
        "id": "view-in-github",
        "colab_type": "text"
      },
      "source": [
        "<a href=\"https://colab.research.google.com/github/gmdeorozco/Probability-Problems-Python-Solutions/blob/main/18_Car_Manufacturer_and_Color.ipynb\" target=\"_parent\"><img src=\"https://colab.research.google.com/assets/colab-badge.svg\" alt=\"Open In Colab\"/></a>"
      ]
    },
    {
      "cell_type": "markdown",
      "metadata": {
        "id": "3_Nw-GnY5lRT"
      },
      "source": [
        "# 1. Problem: An automobile manufacturer has three factories: A, B, and C. They produce 50%, 30%, and 20% respectively, of a specific model of car. 30% of the cars produced in factory A are white, 40% of those produced in factory B are white, and 25% produced in factory C are white.\n",
        "\n",
        "* If an automobile produced by the company is selected at random, find the probability that it is white.\n",
        "\n",
        "* Given that an automobile selected at random is white, find the probability that it came from factory B.\n",
        "\n",
        "\n",
        "---\n",
        "\n",
        "\n",
        "\n",
        "\n"
      ]
    },
    {
      "cell_type": "markdown",
      "metadata": {
        "id": "6w6v56sG8JM5"
      },
      "source": [
        "# 2. Programing Solution"
      ]
    },
    {
      "cell_type": "code",
      "execution_count": 15,
      "metadata": {
        "id": "DfJ6ZrpE5ENT",
        "outputId": "e1bbd222-0e1f-45b5-9c19-e13e30011a0f",
        "colab": {
          "base_uri": "https://localhost:8080/"
        }
      },
      "outputs": [
        {
          "output_type": "stream",
          "name": "stdout",
          "text": [
            "The probability that it is white is: 0.32\n"
          ]
        }
      ],
      "source": [
        "def probability_car_is_white():\n",
        "\n",
        "  # Data\n",
        "  manu_a = 0.50\n",
        "  manu_b = 0.30\n",
        "  manu_c = 0.20\n",
        "\n",
        "  white_a = 0.30\n",
        "  white_b = 0.40\n",
        "  white_c = 0.25\n",
        "\n",
        "  return manu_a * white_a + manu_b * white_b + manu_c * white_c\n",
        "\n",
        "print(f'The probability that it is white is: {probability_car_is_white()}')"
      ]
    },
    {
      "cell_type": "code",
      "source": [
        "def probability_came_from_b_given_is_white():\n",
        "\n",
        "  # Data\n",
        "  manu_a = 0.50\n",
        "  manu_b = 0.30\n",
        "  manu_c = 0.20\n",
        "\n",
        "  white_a = 0.30\n",
        "  white_b = 0.40\n",
        "  white_c = 0.25\n",
        "\n",
        "  return manu_b * white_b / probability_car_is_white()\n",
        "\n",
        "print(f'The probability that it is white is: {probability_came_from_b_given_is_white()}')\n"
      ],
      "metadata": {
        "id": "tdyLjp2L3u0J",
        "outputId": "6e1bc39f-7ac8-41a4-d0fb-eabe741f41bb",
        "colab": {
          "base_uri": "https://localhost:8080/"
        }
      },
      "execution_count": 16,
      "outputs": [
        {
          "output_type": "stream",
          "name": "stdout",
          "text": [
            "The probability that it is white is: 0.375\n"
          ]
        }
      ]
    },
    {
      "cell_type": "code",
      "source": [],
      "metadata": {
        "id": "RE_qauBw45AE"
      },
      "execution_count": null,
      "outputs": []
    }
  ],
  "metadata": {
    "colab": {
      "provenance": [],
      "include_colab_link": true
    },
    "kernelspec": {
      "display_name": "Python 3",
      "name": "python3"
    },
    "language_info": {
      "codemirror_mode": {
        "name": "ipython",
        "version": 3
      },
      "file_extension": ".py",
      "mimetype": "text/x-python",
      "name": "python",
      "nbconvert_exporter": "python",
      "pygments_lexer": "ipython3",
      "version": "3.12.0"
    }
  },
  "nbformat": 4,
  "nbformat_minor": 0
}