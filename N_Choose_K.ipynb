{
  "cells": [
    {
      "cell_type": "markdown",
      "metadata": {
        "id": "view-in-github",
        "colab_type": "text"
      },
      "source": [
        "<a href=\"https://colab.research.google.com/github/gmdeorozco/Probability-Problems-Python-Solutions/blob/main/N_Choose_K.ipynb\" target=\"_parent\"><img src=\"https://colab.research.google.com/assets/colab-badge.svg\" alt=\"Open In Colab\"/></a>"
      ]
    },
    {
      "cell_type": "markdown",
      "metadata": {
        "id": "3_Nw-GnY5lRT"
      },
      "source": [
        "# 1. Formula:\n",
        "\n",
        "![n_of_subsets.JPG](data:image/jpeg;base64,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)\n"
      ]
    },
    {
      "cell_type": "markdown",
      "source": [
        "# 2. Factorial Helper Function:"
      ],
      "metadata": {
        "id": "d00cwr5LlMzU"
      }
    },
    {
      "cell_type": "code",
      "source": [
        "def factorial(n):\n",
        "  if n == 1:\n",
        "    return 1\n",
        "  return n * factorial(n-1)\n",
        "\n",
        "assert factorial(3) == 6, f'Incorrect 3! should be 6, returned {factorial(3)}'\n",
        "assert factorial(4) == 24, f'Incorrect 4! should be 24, returned {factorial(4)}'\n",
        "print('Factorial computed correctly')"
      ],
      "metadata": {
        "id": "oJUc_BUViWIX",
        "outputId": "bdd718cd-a91b-4c14-9dba-83137ab4c1a7",
        "colab": {
          "base_uri": "https://localhost:8080/"
        }
      },
      "execution_count": 6,
      "outputs": [
        {
          "output_type": "stream",
          "name": "stdout",
          "text": [
            "Factorial computed correctly\n"
          ]
        }
      ]
    },
    {
      "cell_type": "markdown",
      "source": [
        "# 3. C(n,K) in Python"
      ],
      "metadata": {
        "id": "lmvLC64IlWOd"
      }
    },
    {
      "cell_type": "code",
      "source": [
        "def n_choose_k(n,k):\n",
        "  return factorial(n)/(factorial(k)*factorial(n-k))\n",
        "\n",
        "assert n_choose_k(10,6) == 210, f'Incorrect, C(10,6) should be 210, returned {n_choose_k(10,6)}'"
      ],
      "metadata": {
        "id": "GDDBpBHFinZl"
      },
      "execution_count": 9,
      "outputs": []
    },
    {
      "cell_type": "markdown",
      "source": [
        "# 4. Problems"
      ],
      "metadata": {
        "id": "RfSSUBnGmBvN"
      }
    },
    {
      "cell_type": "markdown",
      "source": [
        "## 4.1  In how many ways, it is possible to draw exactly 6 cards from a pack of 10 cards?"
      ],
      "metadata": {
        "id": "_Ea5wuP5k5mF"
      }
    },
    {
      "cell_type": "code",
      "source": [
        "ways_to_draw_6_cards_from_a_pack_of_10 = n_choose_k(10,6)\n",
        "\n",
        "print(f\"Result: there are {int(ways_to_draw_6_cards_from_a_pack_of_10)} ways of drawing 6 cards from a package of 10\")"
      ],
      "metadata": {
        "id": "AlpSQaSHkHCg",
        "outputId": "9af63283-3d25-4ff8-f84e-7215405c9a8a",
        "colab": {
          "base_uri": "https://localhost:8080/"
        }
      },
      "execution_count": 13,
      "outputs": [
        {
          "output_type": "stream",
          "name": "stdout",
          "text": [
            "Result: there are 210 ways of drawing 6 cards from a package of 10\n"
          ]
        }
      ]
    },
    {
      "cell_type": "markdown",
      "source": [
        "## 4.2 Find the number of ways of forming a team of 5 members out of 10 members."
      ],
      "metadata": {
        "id": "0LqJEADzmKf8"
      }
    },
    {
      "cell_type": "code",
      "source": [
        "ways_of_forming_a_team_of_5_out_of_10 = n_choose_k(10,5)\n",
        "\n",
        "print(f'Result: there are {int(ways_of_forming_a_team_of_5_out_of_10)} ways of forming a team of 5 members out of 10 members')"
      ],
      "metadata": {
        "id": "wyVifd8elzek",
        "outputId": "8083c15e-6a3f-426d-e154-d48051e46e3e",
        "colab": {
          "base_uri": "https://localhost:8080/"
        }
      },
      "execution_count": 14,
      "outputs": [
        {
          "output_type": "stream",
          "name": "stdout",
          "text": [
            "Result: there are 252 ways of forming a team of 5 members out of 10 members\n"
          ]
        }
      ]
    },
    {
      "cell_type": "markdown",
      "source": [
        "## 4.3 There are 50 people at a party. Among them, each person shakes hand with each of the others exactly once. Then how many handshakes are supposed to happen there?"
      ],
      "metadata": {
        "id": "rxv91DGvnVPt"
      }
    },
    {
      "cell_type": "code",
      "source": [
        "print(f'There were {int(n_choose_k(50,2))} handshakes in the party')"
      ],
      "metadata": {
        "id": "r254vFnemyQJ",
        "outputId": "807e67b8-837c-4369-9237-b47822c8daf3",
        "colab": {
          "base_uri": "https://localhost:8080/"
        }
      },
      "execution_count": 16,
      "outputs": [
        {
          "output_type": "stream",
          "name": "stdout",
          "text": [
            "There were 1225 handshakes in the party\n"
          ]
        }
      ]
    },
    {
      "cell_type": "code",
      "source": [],
      "metadata": {
        "id": "ReNqD5xKntKT"
      },
      "execution_count": null,
      "outputs": []
    }
  ],
  "metadata": {
    "colab": {
      "provenance": [],
      "include_colab_link": true
    },
    "kernelspec": {
      "display_name": "Python 3",
      "name": "python3"
    },
    "language_info": {
      "codemirror_mode": {
        "name": "ipython",
        "version": 3
      },
      "file_extension": ".py",
      "mimetype": "text/x-python",
      "name": "python",
      "nbconvert_exporter": "python",
      "pygments_lexer": "ipython3",
      "version": "3.12.0"
    }
  },
  "nbformat": 4,
  "nbformat_minor": 0
}