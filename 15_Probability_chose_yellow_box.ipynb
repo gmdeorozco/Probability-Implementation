{
  "cells": [
    {
      "cell_type": "markdown",
      "metadata": {
        "id": "view-in-github",
        "colab_type": "text"
      },
      "source": [
        "<a href=\"https://colab.research.google.com/github/gmdeorozco/Probability-Problems-Python-Solutions/blob/main/15_Probability_chose_yellow_box.ipynb\" target=\"_parent\"><img src=\"https://colab.research.google.com/assets/colab-badge.svg\" alt=\"Open In Colab\"/></a>"
      ]
    },
    {
      "cell_type": "markdown",
      "metadata": {
        "id": "3_Nw-GnY5lRT"
      },
      "source": [
        "# 1. Problem: On a game show, a contestant can select one of four boxes. The red box contains one 100 usd bill and nine 1 usd bills. A green box contains two 100 usd bills and eight 1 usd bills. A blue box contains three 100 usd bills and seven 1 usd bills. A yellow box contains five 100 usd bills and five 1 usd bills. The contestant selects a box at random and selects a bill from the box at random. If a 100 usd bill is selected, find the probability that it came from the yellow box.\n",
        "\n",
        "\n",
        "---\n",
        "\n",
        "\n",
        "# 2. Standard Solution:\n",
        "\n",
        "\n"
      ]
    },
    {
      "cell_type": "markdown",
      "metadata": {
        "id": "6w6v56sG8JM5"
      },
      "source": [
        "# 3. Programing Solution"
      ]
    },
    {
      "cell_type": "code",
      "execution_count": 7,
      "metadata": {
        "id": "DfJ6ZrpE5ENT",
        "outputId": "84222b67-9dfa-457b-a7ee-246ba42849e9",
        "colab": {
          "base_uri": "https://localhost:8080/"
        }
      },
      "outputs": [
        {
          "output_type": "stream",
          "name": "stdout",
          "text": [
            "Result: 0.45454545454545453\n"
          ]
        }
      ],
      "source": [
        "#DATA\n",
        "'''\n",
        "Red box has         1 x 100usd + 9 x 1usd = 10 bills\n",
        "Green box has       2 x 100usd + 8 x 1usd = 10 bills\n",
        "Blue box has        3 x 100usd + 7 x 1usd = 10 bills\n",
        "Yellow box has      5 x 100usd + 5 x 1usd = 10 bills\n",
        "'''\n",
        "\n",
        "def probability_bill_came_from_yellow_box_given_it_is_of_100():\n",
        "  prob_came_from_a_box = 1/4\n",
        "\n",
        "  prob_pick_100_in_yellow   = 5/10\n",
        "  prob_pick_100_in_green    = 2/10\n",
        "  prob_pick_100_in_blue     = 3/10\n",
        "  prob_pick_100_in_red      = 1/10\n",
        "\n",
        "  return prob_came_from_a_box * prob_pick_100_in_yellow / (\n",
        "      prob_came_from_a_box * prob_pick_100_in_blue\n",
        "      + prob_came_from_a_box * prob_pick_100_in_red\n",
        "      + prob_came_from_a_box * prob_pick_100_in_yellow\n",
        "      + prob_came_from_a_box * prob_pick_100_in_green\n",
        "  )\n",
        "\n",
        "print(f'Result: {probability_bill_came_from_yellow_box_given_it_is_of_100()}')\n",
        "\n"
      ]
    },
    {
      "cell_type": "code",
      "source": [],
      "metadata": {
        "id": "sEKSslhclgsx"
      },
      "execution_count": null,
      "outputs": []
    }
  ],
  "metadata": {
    "colab": {
      "provenance": [],
      "include_colab_link": true
    },
    "kernelspec": {
      "display_name": "Python 3",
      "name": "python3"
    },
    "language_info": {
      "codemirror_mode": {
        "name": "ipython",
        "version": 3
      },
      "file_extension": ".py",
      "mimetype": "text/x-python",
      "name": "python",
      "nbconvert_exporter": "python",
      "pygments_lexer": "ipython3",
      "version": "3.12.0"
    }
  },
  "nbformat": 4,
  "nbformat_minor": 0
}