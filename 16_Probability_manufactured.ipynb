{
  "cells": [
    {
      "cell_type": "markdown",
      "metadata": {
        "id": "view-in-github",
        "colab_type": "text"
      },
      "source": [
        "<a href=\"https://colab.research.google.com/github/gmdeorozco/Probability-Problems-Python-Solutions/blob/main/16_Probability_manufactured.ipynb\" target=\"_parent\"><img src=\"https://colab.research.google.com/assets/colab-badge.svg\" alt=\"Open In Colab\"/></a>"
      ]
    },
    {
      "cell_type": "markdown",
      "metadata": {
        "id": "3_Nw-GnY5lRT"
      },
      "source": [
        "# 1. Problem: A plane's \"black-box\" is manufactured by only 3 companies: AirCorp, BigSkies, and CharterUS - who make 80%, 15%, and 5% of all the black-boxes made, respectively. Invariably, some of these are defective. Assuming the percentage of defective black-boxes made by AirCorp, BigSkies, and CharterUS are 4%, 6%, and 9%, respectively, find the probability that a randomly selected black-box from all black-boxes made that is found to be defective came from AirCorp.\n",
        "\n",
        "\n",
        "---\n",
        "\n",
        "\n"
      ]
    },
    {
      "cell_type": "markdown",
      "metadata": {
        "id": "6w6v56sG8JM5"
      },
      "source": [
        "\n",
        "# 2. Programing Solution"
      ]
    },
    {
      "cell_type": "code",
      "execution_count": 9,
      "metadata": {
        "id": "DfJ6ZrpE5ENT",
        "outputId": "dcd8183c-eea4-4a2c-d079-77264337a004",
        "colab": {
          "base_uri": "https://localhost:8080/"
        }
      },
      "outputs": [
        {
          "output_type": "stream",
          "name": "stdout",
          "text": [
            "Result probability came from AirCorp given is defective: 0.7032967032967034\n"
          ]
        }
      ],
      "source": [
        "# Data\n",
        "# AirCorp      makes: 80%   defective: 4%\n",
        "# BigSkies     makes: 15%   defective: 6%\n",
        "# CarterUS     makes:  5%   defective: 9%\n",
        "\n",
        "def probability_box_came_from_aircorp_given_is_defective():\n",
        "  aircorp = 0.80\n",
        "  aircorp_def = 0.04\n",
        "\n",
        "  bigskies = 0.15\n",
        "  bigskies_def = 0.06\n",
        "\n",
        "  charterus = 0.05\n",
        "  charterus_def = 0.09\n",
        "\n",
        "  return aircorp * aircorp_def / (aircorp * aircorp_def + bigskies * bigskies_def + charterus * charterus_def)\n",
        "\n",
        "print(f'Result probability came from AirCorp given is defective: {probability_box_came_from_aircorp_given_is_defective()}')"
      ]
    },
    {
      "cell_type": "code",
      "source": [],
      "metadata": {
        "id": "XTIMZ5AMrIJc"
      },
      "execution_count": null,
      "outputs": []
    }
  ],
  "metadata": {
    "colab": {
      "provenance": [],
      "include_colab_link": true
    },
    "kernelspec": {
      "display_name": "Python 3",
      "name": "python3"
    },
    "language_info": {
      "codemirror_mode": {
        "name": "ipython",
        "version": 3
      },
      "file_extension": ".py",
      "mimetype": "text/x-python",
      "name": "python",
      "nbconvert_exporter": "python",
      "pygments_lexer": "ipython3",
      "version": "3.12.0"
    }
  },
  "nbformat": 4,
  "nbformat_minor": 0
}