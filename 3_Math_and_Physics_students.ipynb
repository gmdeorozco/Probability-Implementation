{
  "cells": [
    {
      "cell_type": "markdown",
      "metadata": {
        "colab_type": "text",
        "id": "view-in-github"
      },
      "source": [
        "<a href=\"https://colab.research.google.com/github/gmdeorozco/Probability-Implementation/blob/main/2_Die_Prime_or_Even.ipynb\" target=\"_parent\"><img src=\"https://colab.research.google.com/assets/colab-badge.svg\" alt=\"Open In Colab\"/></a>"
      ]
    },
    {
      "cell_type": "markdown",
      "metadata": {
        "id": "3_Nw-GnY5lRT"
      },
      "source": [
        "# 1. Problem: In a group of students, 60% study mathematics, 40% study physics, and 20% study both subjects. What is the probability that a randomly chosen student studies either mathematics or physics?\n",
        "\n",
        "\n",
        "---\n",
        "\n",
        "\n",
        "# 2. Standard Solution:\n",
        "\n",
        "\n",
        "\n"
      ]
    },
    {
      "cell_type": "markdown",
      "metadata": {
        "id": "6w6v56sG8JM5"
      },
      "source": [
        "# 3. Generalization Function"
      ]
    },
    {
      "cell_type": "code",
      "execution_count": 2,
      "metadata": {
        "id": "DfJ6ZrpE5ENT"
      },
      "outputs": [
        {
          "name": "stdout",
          "output_type": "stream",
          "text": [
            "The probability of a random student to study math or physics is 0.8\n"
          ]
        }
      ],
      "source": [
        "# P(A or B) = P(A) + P(B) - P(A and B)\n",
        "prob_math = 0.60\n",
        "prob_physics = 0.40\n",
        "prob_math_and_physics = 0.20\n",
        "prob_math_or_physics = prob_math + prob_physics - prob_math_and_physics\n",
        "print(f'The probability of a random student to study math or physics is {prob_math_or_physics}')\n",
        "\n"
      ]
    }
  ],
  "metadata": {
    "colab": {
      "authorship_tag": "ABX9TyNr0il8zJSnB8ijteqEYYCK",
      "include_colab_link": true,
      "provenance": []
    },
    "kernelspec": {
      "display_name": "Python 3",
      "name": "python3"
    },
    "language_info": {
      "codemirror_mode": {
        "name": "ipython",
        "version": 3
      },
      "file_extension": ".py",
      "mimetype": "text/x-python",
      "name": "python",
      "nbconvert_exporter": "python",
      "pygments_lexer": "ipython3",
      "version": "3.12.0"
    }
  },
  "nbformat": 4,
  "nbformat_minor": 0
}
