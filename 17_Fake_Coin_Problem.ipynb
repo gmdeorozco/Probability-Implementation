{
  "cells": [
    {
      "cell_type": "markdown",
      "metadata": {
        "id": "view-in-github",
        "colab_type": "text"
      },
      "source": [
        "<a href=\"https://colab.research.google.com/github/gmdeorozco/Probability-Problems-Python-Solutions/blob/main/17_Fake_Coin_Problem.ipynb\" target=\"_parent\"><img src=\"https://colab.research.google.com/assets/colab-badge.svg\" alt=\"Open In Colab\"/></a>"
      ]
    },
    {
      "cell_type": "markdown",
      "metadata": {
        "id": "3_Nw-GnY5lRT"
      },
      "source": [
        "# 1. Problem: Consider 3 coins where two are fair, yielding heads with probability 0.50, while the third yields heads with probability 0.75. If one randomly selects one of the coins and tosses it 3 times, yielding 3 heads - what is the probability this is the biased coin?\n",
        "\n",
        "\n",
        "---\n",
        "\n",
        "\n",
        "\n",
        "\n",
        "\n"
      ]
    },
    {
      "cell_type": "markdown",
      "metadata": {
        "id": "6w6v56sG8JM5"
      },
      "source": [
        "# 2. Programing Solution"
      ]
    },
    {
      "cell_type": "code",
      "execution_count": 11,
      "metadata": {
        "id": "DfJ6ZrpE5ENT",
        "outputId": "52694b1c-0d00-4afb-8eac-9db81bc50312",
        "colab": {
          "base_uri": "https://localhost:8080/"
        }
      },
      "outputs": [
        {
          "output_type": "stream",
          "name": "stdout",
          "text": [
            "Result:  the probability this is the biased coin is: 0.627906976744186\n"
          ]
        }
      ],
      "source": [
        "# Data\n",
        "\n",
        "prob_coin_a_heads = 0.50\n",
        "prob_coin_b_heads = 0.50\n",
        "prob_fake_coin_heads = 0.75\n",
        "\n",
        "def probability_used_fake_coin_given_3_heads():\n",
        "  prob_3_heads_fair_coin_a = 0.50 ** 3\n",
        "  prob_3_heads_fair_coin_b = 0.50 ** 3\n",
        "  prob_fake_coin_heads = 0.75 ** 3\n",
        "\n",
        "  return prob_fake_coin_heads / ( prob_fake_coin_heads + prob_3_heads_fair_coin_a + prob_3_heads_fair_coin_b )\n",
        "\n",
        "print(f'Result:  the probability this is the biased coin is: {probability_used_fake_coin_given_3_heads()}')"
      ]
    },
    {
      "cell_type": "code",
      "source": [],
      "metadata": {
        "id": "abKyYop5wY-l"
      },
      "execution_count": null,
      "outputs": []
    }
  ],
  "metadata": {
    "colab": {
      "provenance": [],
      "include_colab_link": true
    },
    "kernelspec": {
      "display_name": "Python 3",
      "name": "python3"
    },
    "language_info": {
      "codemirror_mode": {
        "name": "ipython",
        "version": 3
      },
      "file_extension": ".py",
      "mimetype": "text/x-python",
      "name": "python",
      "nbconvert_exporter": "python",
      "pygments_lexer": "ipython3",
      "version": "3.12.0"
    }
  },
  "nbformat": 4,
  "nbformat_minor": 0
}